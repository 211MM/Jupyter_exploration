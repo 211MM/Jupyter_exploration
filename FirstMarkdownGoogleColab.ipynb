{
  "nbformat": 4,
  "nbformat_minor": 0,
  "metadata": {
    "colab": {
      "provenance": []
    },
    "kernelspec": {
      "name": "python3",
      "display_name": "Python 3"
    },
    "language_info": {
      "name": "python"
    }
  },
  "cells": [
    {
      "cell_type": "markdown",
      "source": [
        "My First Markdown Cell in Google Colabs"
      ],
      "metadata": {
        "id": "FkL3aiBrDWHQ"
      }
    },
    {
      "cell_type": "code",
      "source": [
        "print(\"Hello, World!\")"
      ],
      "metadata": {
        "colab": {
          "base_uri": "https://localhost:8080/"
        },
        "id": "eqqdpBd3C9pR",
        "outputId": "bdc10676-d000-4f9d-9c95-6f2beed3b04c"
      },
      "execution_count": 2,
      "outputs": [
        {
          "output_type": "stream",
          "name": "stdout",
          "text": [
            "Hello, World!\n"
          ]
        }
      ]
    },
    {
      "cell_type": "code",
      "source": [],
      "metadata": {
        "id": "lKniMveJDw77"
      },
      "execution_count": null,
      "outputs": []
    }
  ]
}